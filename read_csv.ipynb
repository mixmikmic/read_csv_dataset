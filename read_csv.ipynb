{
 "cells": [
  {
   "cell_type": "code",
   "execution_count": 1,
   "metadata": {},
   "outputs": [
    {
     "name": "stdout",
     "output_type": "stream",
     "text": [
      "       repository_id default_branch  \\\n",
      "0                  2         master   \n",
      "1                  3         binder   \n",
      "2                  4         master   \n",
      "3                  7         master   \n",
      "4                  8         master   \n",
      "...              ...            ...   \n",
      "26262         267549         master   \n",
      "26263         267557         master   \n",
      "26264         267567         master   \n",
      "26265         267582         master   \n",
      "26266         267589         master   \n",
      "\n",
      "                                             description  \\\n",
      "0      Tutorials about Quantitative Finance in Python...   \n",
      "1      An interactive demonstration of matched filter...   \n",
      "2      This repository serves as a container for mate...   \n",
      "3      Notes, problems, simulations developed while f...   \n",
      "4      This repo contains my projects on ML and Data ...   \n",
      "...                                                  ...   \n",
      "26262  Sensors data is a company providing big data a...   \n",
      "26263                        My Trainning Python Scripts   \n",
      "26264  One of the projects of Udacity's Machine Learn...   \n",
      "26265              CS II: Python Data Science Class unit   \n",
      "26266  Jupyter notebooks about various subject to lea...   \n",
      "\n",
      "                                                  readme  \\\n",
      "0      https://raw.githubusercontent.com/mgroncki/IPy...   \n",
      "1      https://raw.githubusercontent.com/moble/Matche...   \n",
      "2      https://raw.githubusercontent.com/brian-team/b...   \n",
      "3      https://raw.githubusercontent.com/masinoa/prob...   \n",
      "4      https://raw.githubusercontent.com/Dawny33/Data...   \n",
      "...                                                  ...   \n",
      "26262  https://raw.githubusercontent.com/PursueHappin...   \n",
      "26263  https://raw.githubusercontent.com/lperozin/Pyt...   \n",
      "26264  https://raw.githubusercontent.com/Pr1yanshu/Ch...   \n",
      "26265  https://raw.githubusercontent.com/PeterJBloch/...   \n",
      "26266  https://raw.githubusercontent.com/jbuisine/pyt...   \n",
      "\n",
      "                                          readme_content  stargazers  forks  \\\n",
      "0      IPythonScripts\\n==============\\n\\nHere you fin...          65     47   \n",
      "1      [![Binder](https://mybinder.org/badge_logo.svg...          24      7   \n",
      "2      brian-material\\n==============\\n\\nThis reposit...          16      4   \n",
      "3      probability\\n===========\\n\\nA series of ipytho...          21     20   \n",
      "4      Data-Mining-and-ML\\n==================\\n\\nThis...          15      9   \n",
      "...                                                  ...         ...    ...   \n",
      "26262  # SensorData-Project\\nThe sequence of file is:...           0      0   \n",
      "26263  # My_Trainning_Python\\nIn this repository I wi...           0      0   \n",
      "26264  # CharityML\\nOne of the projects of Udacity's ...           0      0   \n",
      "26265  # Python_Classes\\nCS II: Python Data Science C...           0      0   \n",
      "26266  # Python Learn\\n\\n## Description\\n\\nPython tut...           0      0   \n",
      "\n",
      "       starforks  \n",
      "0      54.553571  \n",
      "1      10.838710  \n",
      "2       6.400000  \n",
      "3      20.487805  \n",
      "4      11.250000  \n",
      "...          ...  \n",
      "26262   0.000000  \n",
      "26263   0.000000  \n",
      "26264   0.000000  \n",
      "26265   0.000000  \n",
      "26266   0.000000  \n",
      "\n",
      "[26267 rows x 8 columns]\n"
     ]
    }
   ],
   "source": [
    "import pandas as pd\n",
    "\n",
    "df = pd.read_csv('export_datasets.csv')\n",
    "print(df)"
   ]
  },
  {
   "cell_type": "code",
   "execution_count": 2,
   "metadata": {},
   "outputs": [
    {
     "name": "stdout",
     "output_type": "stream",
     "text": [
      "     repository_id default_branch  \\\n",
      "310           1403       gh-pages   \n",
      "\n",
      "                                           description  \\\n",
      "310  Code behind the FlightRank website and the dat...   \n",
      "\n",
      "                                                readme  \\\n",
      "310  https://raw.githubusercontent.com/csaladenes/f...   \n",
      "\n",
      "                                        readme_content  stargazers  forks  \\\n",
      "310  [<img src=\"favicon.ico\" alt=\"favicon\" height=2...           1      2   \n",
      "\n",
      "     starforks  \n",
      "310   1.333333  \n"
     ]
    }
   ],
   "source": [
    "print(df[df['repository_id'] == 1403])"
   ]
  }
 ],
 "metadata": {
  "kernelspec": {
   "display_name": "base",
   "language": "python",
   "name": "python3"
  },
  "language_info": {
   "codemirror_mode": {
    "name": "ipython",
    "version": 3
   },
   "file_extension": ".py",
   "mimetype": "text/x-python",
   "name": "python",
   "nbconvert_exporter": "python",
   "pygments_lexer": "ipython3",
   "version": "3.8.8"
  },
  "orig_nbformat": 4
 },
 "nbformat": 4,
 "nbformat_minor": 2
}
