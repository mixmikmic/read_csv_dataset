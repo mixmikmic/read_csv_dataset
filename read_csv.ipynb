{
 "cells": [
  {
   "cell_type": "code",
   "execution_count": null,
   "metadata": {},
   "outputs": [],
   "source": [
    "import pandas as pd\n",
    "\n",
    "# replace 'filename.csv' with the name of your CSV file\n",
    "df = pd.read_csv('export_datasets.csv')\n",
    "\n",
    "# print the DataFrame to make sure it loaded correctly\n",
    "print(df)"
   ]
  },
  {
   "cell_type": "code",
   "execution_count": 4,
   "metadata": {},
   "outputs": [
    {
     "name": "stdout",
     "output_type": "stream",
     "text": [
      "     repository_id default_branch  \\\n",
      "310           1403       gh-pages   \n",
      "\n",
      "                                           description  \\\n",
      "310  Code behind the FlightRank website and the dat...   \n",
      "\n",
      "                                                readme  \\\n",
      "310  https://raw.githubusercontent.com/csaladenes/f...   \n",
      "\n",
      "                                        readme_content  stargazers  forks  \\\n",
      "310  [<img src=\"favicon.ico\" alt=\"favicon\" height=2...           1      2   \n",
      "\n",
      "     starforks  \n",
      "310   1.333333  \n"
     ]
    }
   ],
   "source": [
    "print(df[df['repository_id'] == 1403])"
   ]
  }
 ],
 "metadata": {
  "kernelspec": {
   "display_name": "base",
   "language": "python",
   "name": "python3"
  },
  "language_info": {
   "codemirror_mode": {
    "name": "ipython",
    "version": 3
   },
   "file_extension": ".py",
   "mimetype": "text/x-python",
   "name": "python",
   "nbconvert_exporter": "python",
   "pygments_lexer": "ipython3",
   "version": "3.8.8"
  },
  "orig_nbformat": 4
 },
 "nbformat": 4,
 "nbformat_minor": 2
}
